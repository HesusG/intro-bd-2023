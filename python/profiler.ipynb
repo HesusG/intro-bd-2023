{
 "cells": [
  {
   "cell_type": "code",
   "execution_count": 4,
   "metadata": {},
   "outputs": [],
   "source": [
    "import pandas as pd\n",
    "from pandas_profiling import ProfileReport"
   ]
  },
  {
   "cell_type": "code",
   "execution_count": 10,
   "metadata": {},
   "outputs": [
    {
     "name": "stderr",
     "output_type": "stream",
     "text": [
      "Summarize dataset: 100%|██████████| 17/17 [00:00<00:00, 25.13it/s, Completed]                \n",
      "Generate report structure: 100%|██████████| 1/1 [00:00<00:00,  1.82it/s]\n",
      "Render HTML: 100%|██████████| 1/1 [00:00<00:00,  5.67it/s]\n",
      "Export report to file: 100%|██████████| 1/1 [00:00<00:00, 405.87it/s]\n",
      "Summarize dataset: 100%|██████████| 44/44 [00:02<00:00, 17.01it/s, Completed]                   \n",
      "Generate report structure: 100%|██████████| 1/1 [00:01<00:00,  1.24s/it]\n",
      "Render HTML: 100%|██████████| 1/1 [00:00<00:00,  1.60it/s]\n",
      "Export report to file: 100%|██████████| 1/1 [00:00<00:00, 286.69it/s]\n"
     ]
    }
   ],
   "source": [
    "csv_files = ['../datasets/h1n1.csv', '../datasets/nCov.csv']\n",
    "\n",
    "for file in csv_files:\n",
    "    try:\n",
    "        data = pd.read_csv(file, encoding='latin1')\n",
    "    except UnicodeDecodeError:\n",
    "        # Si 'latin1' falla, intenta con 'cp1252'\n",
    "        try:\n",
    "            data = pd.read_csv('ruta/al/archivo.csv', encoding='cp1252')\n",
    "        except UnicodeDecodeError:\n",
    "            # Si ambas fallan, considera investigar la codificación correcta del archivo\n",
    "            print(\"La codificación del archivo no es 'latin1' ni 'cp1252'. Considera investigar la codificación correcta.\")\n",
    "\n",
    "    profile = ProfileReport(data, title=f\"Perfil de Datos para {file}\", explorative=True)\n",
    "    profile.to_file(f\"{file.split('/')[-1].replace('.csv', '')}_profile.html\")"
   ]
  }
 ],
 "metadata": {
  "kernelspec": {
   "display_name": "Python 3",
   "language": "python",
   "name": "python3"
  },
  "language_info": {
   "codemirror_mode": {
    "name": "ipython",
    "version": 3
   },
   "file_extension": ".py",
   "mimetype": "text/x-python",
   "name": "python",
   "nbconvert_exporter": "python",
   "pygments_lexer": "ipython3",
   "version": "3.7.16"
  },
  "orig_nbformat": 4
 },
 "nbformat": 4,
 "nbformat_minor": 2
}
